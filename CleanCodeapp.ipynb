{
  "nbformat": 4,
  "nbformat_minor": 0,
  "metadata": {
    "colab": {
      "provenance": [],
      "gpuType": "T4",
      "authorship_tag": "ABX9TyO0E3CeBTjwjxJuUgJpbSgQ",
      "include_colab_link": true
    },
    "kernelspec": {
      "name": "python3",
      "display_name": "Python 3"
    },
    "language_info": {
      "name": "python"
    },
    "accelerator": "GPU"
  },
  "cells": [
    {
      "cell_type": "markdown",
      "metadata": {
        "id": "view-in-github",
        "colab_type": "text"
      },
      "source": [
        "<a href=\"https://colab.research.google.com/github/Epicalegendaire/June-Cohort-NIT-Rourkela/blob/main/CleanCodeapp.ipynb\" target=\"_parent\"><img src=\"https://colab.research.google.com/assets/colab-badge.svg\" alt=\"Open In Colab\"/></a>"
      ]
    },
    {
      "cell_type": "code",
      "execution_count": 1,
      "metadata": {
        "id": "l9wvPVvgCeQk",
        "colab": {
          "base_uri": "https://localhost:8080/"
        },
        "outputId": "9dada358-3fda-49d7-e95a-2156b8d370d8"
      },
      "outputs": [
        {
          "output_type": "stream",
          "name": "stdout",
          "text": [
            "Cloning into 'June-Cohort-NIT-Rourkela'...\n",
            "remote: Enumerating objects: 816, done.\u001b[K\n",
            "remote: Counting objects: 100% (816/816), done.\u001b[K\n",
            "remote: Compressing objects: 100% (487/487), done.\u001b[K\n",
            "remote: Total 816 (delta 312), reused 805 (delta 301), pack-reused 0 (from 0)\u001b[K\n",
            "Receiving objects: 100% (816/816), 4.45 MiB | 3.02 MiB/s, done.\n",
            "Resolving deltas: 100% (312/312), done.\n"
          ]
        }
      ],
      "source": [
        "!git clone https://github.com/Epicalegendaire/June-Cohort-NIT-Rourkela.git"
      ]
    },
    {
      "cell_type": "code",
      "source": [
        "%cd June-Cohort-NIT-Rourkela/CleanCodeApp/"
      ],
      "metadata": {
        "colab": {
          "base_uri": "https://localhost:8080/"
        },
        "id": "n1xOLIZZC1IX",
        "outputId": "c4761220-28df-4474-c75a-f7c030a9fce9"
      },
      "execution_count": 3,
      "outputs": [
        {
          "output_type": "stream",
          "name": "stdout",
          "text": [
            "/content/June-Cohort-NIT-Rourkela/CleanCodeApp\n"
          ]
        }
      ]
    },
    {
      "cell_type": "code",
      "source": [
        "!pip install -r requirements.txt\n",
        "!python install_custom_admin_black.py\n",
        "!python manage.py migrate\n"
      ],
      "metadata": {
        "id": "8164r4KOjZdd"
      },
      "execution_count": null,
      "outputs": []
    },
    {
      "cell_type": "code",
      "source": [],
      "metadata": {
        "id": "Y62AmxjHTlOq"
      },
      "execution_count": null,
      "outputs": []
    },
    {
      "cell_type": "code",
      "source": [
        "\n",
        "!pip install pyngrok\n"
      ],
      "metadata": {
        "colab": {
          "base_uri": "https://localhost:8080/"
        },
        "id": "DEjve7f8RXCa",
        "outputId": "27e098dc-99be-47b0-d5fb-e7dffc7166ca"
      },
      "execution_count": 9,
      "outputs": [
        {
          "output_type": "stream",
          "name": "stdout",
          "text": [
            "Collecting pyngrok\n",
            "  Downloading pyngrok-7.2.11-py3-none-any.whl.metadata (9.4 kB)\n",
            "Requirement already satisfied: PyYAML>=5.1 in /usr/local/lib/python3.11/dist-packages (from pyngrok) (6.0.2)\n",
            "Downloading pyngrok-7.2.11-py3-none-any.whl (25 kB)\n",
            "Installing collected packages: pyngrok\n",
            "Successfully installed pyngrok-7.2.11\n"
          ]
        }
      ]
    },
    {
      "cell_type": "code",
      "source": [],
      "metadata": {
        "colab": {
          "base_uri": "https://localhost:8080/"
        },
        "id": "7utHb2jTRoNu",
        "outputId": "5efb9e3f-3e4a-49c6-81fd-f2eeb05d3f30"
      },
      "execution_count": null,
      "outputs": [
        {
          "output_type": "stream",
          "name": "stdout",
          "text": [
            "/content/PrescriptionAI\n"
          ]
        }
      ]
    },
    {
      "cell_type": "code",
      "source": [],
      "metadata": {
        "id": "pbqztC3ETOt1"
      },
      "execution_count": null,
      "outputs": []
    },
    {
      "cell_type": "code",
      "source": [
        "from pyngrok import ngrok\n",
        "\n",
        "# Authenticate ngrok, type in your auth token\n",
        "auth_token = \"2fwAHWM2QrfwpliToNBfefwRfw_3fwhvXyfwN9vfwrfw\"\n",
        "ngrok.set_auth_token(auth_token)\n",
        "# Setup tunnel\n",
        "public_url = ngrok.connect(8000)\n",
        "print(f\"Your app is live at: {public_url}\")\n",
        "\n",
        "# Start Django server\n",
        "!python manage.py runserver 0.0.0.0:8000"
      ],
      "metadata": {
        "colab": {
          "base_uri": "https://localhost:8080/"
        },
        "id": "5n_0iAZ5CL1d",
        "outputId": "d2505cbe-4fe1-4899-e49f-5f49f061bf0d"
      },
      "execution_count": 12,
      "outputs": [
        {
          "output_type": "stream",
          "name": "stdout",
          "text": [
            "Your app is live at: NgrokTunnel: \"https://6aae-34-143-186-230.ngrok-free.app\" -> \"http://localhost:8000\"\n",
            "Watching for file changes with StatReloader\n",
            "Performing system checks...\n",
            "\n",
            "2025-06-18 10:44:25.540182: E external/local_xla/xla/stream_executor/cuda/cuda_fft.cc:477] Unable to register cuFFT factory: Attempting to register factory for plugin cuFFT when one has already been registered\n",
            "WARNING: All log messages before absl::InitializeLog() is called are written to STDERR\n",
            "E0000 00:00:1750243465.560581   24062 cuda_dnn.cc:8310] Unable to register cuDNN factory: Attempting to register factory for plugin cuDNN when one has already been registered\n",
            "E0000 00:00:1750243465.566793   24062 cuda_blas.cc:1418] Unable to register cuBLAS factory: Attempting to register factory for plugin cuBLAS when one has already been registered\n",
            "2025-06-18 10:44:25.587670: I tensorflow/core/platform/cpu_feature_guard.cc:210] This TensorFlow binary is optimized to use available CPU instructions in performance-critical operations.\n",
            "To enable the following instructions: AVX2 AVX512F FMA, in other operations, rebuild TensorFlow with the appropriate compiler flags.\n",
            "System check identified no issues (0 silenced).\n",
            "June 18, 2025 - 10:44:29\n",
            "Django version 4.2.9, using settings 'config.settings'\n",
            "Starting development server at http://0.0.0.0:8000/\n",
            "Quit the server with CONTROL-C.\n",
            "\n",
            "[18/Jun/2025 10:44:33] \u001b[32m\"GET / HTTP/1.1\" 302 0\u001b[0m\n",
            "[18/Jun/2025 10:44:34] \u001b[m\"GET /accounts/auth-signin/?next=/ HTTP/1.1\" 200 9886\u001b[0m\n",
            "[18/Jun/2025 10:44:35] \u001b[m\"GET /static/assets/css/nucleo-icons.css HTTP/1.1\" 200 7743\u001b[0m\n",
            "[18/Jun/2025 10:44:35] \u001b[m\"GET /static/assets/css/theme-switcher.css HTTP/1.1\" 200 1403\u001b[0m\n",
            "[18/Jun/2025 10:44:35] \u001b[m\"GET /static/assets/demo/demo.css HTTP/1.1\" 200 966\u001b[0m\n",
            "[18/Jun/2025 10:44:35] \u001b[m\"GET /static/assets/css/black-dashboard.css?v=1.0.0 HTTP/1.1\" 200 325973\u001b[0m\n",
            "[18/Jun/2025 10:44:35] \u001b[m\"GET /static/assets/js/core/bootstrap.min.js HTTP/1.1\" 200 58031\u001b[0m\n",
            "[18/Jun/2025 10:44:35] \u001b[m\"GET /static/assets/js/plugins/bootstrap-notify.js HTTP/1.1\" 200 15612\u001b[0m\n",
            "[18/Jun/2025 10:44:35] \u001b[m\"GET /static/assets/js/black-dashboard.min.js?v=1.0.0 HTTP/1.1\" 200 4540\u001b[0m\n",
            "[18/Jun/2025 10:44:35] \u001b[m\"GET /static/assets/js/plugins/perfect-scrollbar.jquery.min.js HTTP/1.1\" 200 18292\u001b[0m\n",
            "[18/Jun/2025 10:44:35] \u001b[m\"GET /static/assets/demo/demo.js HTTP/1.1\" 200 19768\u001b[0m\n",
            "[18/Jun/2025 10:44:35] \u001b[m\"GET /static/assets/js/core/popper.min.js HTTP/1.1\" 200 18994\u001b[0m\n",
            "[18/Jun/2025 10:44:35] \u001b[m\"GET /static/assets/js/core/jquery.min.js HTTP/1.1\" 200 86659\u001b[0m\n",
            "[18/Jun/2025 10:44:35] \u001b[m\"GET /static/assets/js/themeSettings.js HTTP/1.1\" 200 4769\u001b[0m\n",
            "[18/Jun/2025 10:44:35] \u001b[m\"GET /static/assets/js/plugins/chartjs.min.js HTTP/1.1\" 200 157844\u001b[0m\n",
            "[18/Jun/2025 10:44:36] \u001b[m\"GET /static/assets/fonts/nucleo.woff2 HTTP/1.1\" 200 12616\u001b[0m\n",
            "[18/Jun/2025 10:44:37] \u001b[m\"GET /static/assets/img/favicon.png HTTP/1.1\" 200 2761\u001b[0m\n",
            "[18/Jun/2025 10:44:58] \u001b[32m\"POST /accounts/auth-signin/?next=/ HTTP/1.1\" 302 0\u001b[0m\n",
            "[18/Jun/2025 10:44:59] \u001b[m\"GET / HTTP/1.1\" 200 19974\u001b[0m\n",
            "[18/Jun/2025 10:44:59] \u001b[m\"GET /static/assets/img/anime3.png HTTP/1.1\" 200 37930\u001b[0m\n",
            "Loading personalised precription agent....\n",
            "Loading Locutusque gpt2 medical base model....\n",
            "checking for model...\n",
            "model exists!\n",
            "/usr/local/lib/python3.11/dist-packages/peft/tuners/tuners_utils.py:167: UserWarning: Already found a `peft_config` attribute in the model. This will lead to having multiple adapters in the model. Make sure to know what you are doing!\n",
            "  warnings.warn(\n",
            "/usr/local/lib/python3.11/dist-packages/peft/peft_model.py:569: UserWarning: Found missing adapter keys while loading the checkpoint: ['base_model.model.base_model.model.transformer.h.0.attn.c_attn.lora_A.default.weight', 'base_model.model.base_model.model.transformer.h.0.attn.c_attn.lora_B.default.weight', 'base_model.model.base_model.model.transformer.h.1.attn.c_attn.lora_A.default.weight', 'base_model.model.base_model.model.transformer.h.1.attn.c_attn.lora_B.default.weight', 'base_model.model.base_model.model.transformer.h.2.attn.c_attn.lora_A.default.weight', 'base_model.model.base_model.model.transformer.h.2.attn.c_attn.lora_B.default.weight', 'base_model.model.base_model.model.transformer.h.3.attn.c_attn.lora_A.default.weight', 'base_model.model.base_model.model.transformer.h.3.attn.c_attn.lora_B.default.weight', 'base_model.model.base_model.model.transformer.h.4.attn.c_attn.lora_A.default.weight', 'base_model.model.base_model.model.transformer.h.4.attn.c_attn.lora_B.default.weight', 'base_model.model.base_model.model.transformer.h.5.attn.c_attn.lora_A.default.weight', 'base_model.model.base_model.model.transformer.h.5.attn.c_attn.lora_B.default.weight', 'base_model.model.base_model.model.transformer.h.6.attn.c_attn.lora_A.default.weight', 'base_model.model.base_model.model.transformer.h.6.attn.c_attn.lora_B.default.weight', 'base_model.model.base_model.model.transformer.h.7.attn.c_attn.lora_A.default.weight', 'base_model.model.base_model.model.transformer.h.7.attn.c_attn.lora_B.default.weight', 'base_model.model.base_model.model.transformer.h.8.attn.c_attn.lora_A.default.weight', 'base_model.model.base_model.model.transformer.h.8.attn.c_attn.lora_B.default.weight', 'base_model.model.base_model.model.transformer.h.9.attn.c_attn.lora_A.default.weight', 'base_model.model.base_model.model.transformer.h.9.attn.c_attn.lora_B.default.weight', 'base_model.model.base_model.model.transformer.h.10.attn.c_attn.lora_A.default.weight', 'base_model.model.base_model.model.transformer.h.10.attn.c_attn.lora_B.default.weight', 'base_model.model.base_model.model.transformer.h.11.attn.c_attn.lora_A.default.weight', 'base_model.model.base_model.model.transformer.h.11.attn.c_attn.lora_B.default.weight', 'base_model.model.base_model.model.transformer.h.12.attn.c_attn.lora_A.default.weight', 'base_model.model.base_model.model.transformer.h.12.attn.c_attn.lora_B.default.weight', 'base_model.model.base_model.model.transformer.h.13.attn.c_attn.lora_A.default.weight', 'base_model.model.base_model.model.transformer.h.13.attn.c_attn.lora_B.default.weight', 'base_model.model.base_model.model.transformer.h.14.attn.c_attn.lora_A.default.weight', 'base_model.model.base_model.model.transformer.h.14.attn.c_attn.lora_B.default.weight', 'base_model.model.base_model.model.transformer.h.15.attn.c_attn.lora_A.default.weight', 'base_model.model.base_model.model.transformer.h.15.attn.c_attn.lora_B.default.weight', 'base_model.model.base_model.model.transformer.h.16.attn.c_attn.lora_A.default.weight', 'base_model.model.base_model.model.transformer.h.16.attn.c_attn.lora_B.default.weight', 'base_model.model.base_model.model.transformer.h.17.attn.c_attn.lora_A.default.weight', 'base_model.model.base_model.model.transformer.h.17.attn.c_attn.lora_B.default.weight', 'base_model.model.base_model.model.transformer.h.18.attn.c_attn.lora_A.default.weight', 'base_model.model.base_model.model.transformer.h.18.attn.c_attn.lora_B.default.weight', 'base_model.model.base_model.model.transformer.h.19.attn.c_attn.lora_A.default.weight', 'base_model.model.base_model.model.transformer.h.19.attn.c_attn.lora_B.default.weight', 'base_model.model.base_model.model.transformer.h.20.attn.c_attn.lora_A.default.weight', 'base_model.model.base_model.model.transformer.h.20.attn.c_attn.lora_B.default.weight', 'base_model.model.base_model.model.transformer.h.21.attn.c_attn.lora_A.default.weight', 'base_model.model.base_model.model.transformer.h.21.attn.c_attn.lora_B.default.weight', 'base_model.model.base_model.model.transformer.h.22.attn.c_attn.lora_A.default.weight', 'base_model.model.base_model.model.transformer.h.22.attn.c_attn.lora_B.default.weight', 'base_model.model.base_model.model.transformer.h.23.attn.c_attn.lora_A.default.weight', 'base_model.model.base_model.model.transformer.h.23.attn.c_attn.lora_B.default.weight', 'base_model.model.base_model.model.transformer.h.24.attn.c_attn.lora_A.default.weight', 'base_model.model.base_model.model.transformer.h.24.attn.c_attn.lora_B.default.weight', 'base_model.model.base_model.model.transformer.h.25.attn.c_attn.lora_A.default.weight', 'base_model.model.base_model.model.transformer.h.25.attn.c_attn.lora_B.default.weight', 'base_model.model.base_model.model.transformer.h.26.attn.c_attn.lora_A.default.weight', 'base_model.model.base_model.model.transformer.h.26.attn.c_attn.lora_B.default.weight', 'base_model.model.base_model.model.transformer.h.27.attn.c_attn.lora_A.default.weight', 'base_model.model.base_model.model.transformer.h.27.attn.c_attn.lora_B.default.weight', 'base_model.model.base_model.model.transformer.h.28.attn.c_attn.lora_A.default.weight', 'base_model.model.base_model.model.transformer.h.28.attn.c_attn.lora_B.default.weight', 'base_model.model.base_model.model.transformer.h.29.attn.c_attn.lora_A.default.weight', 'base_model.model.base_model.model.transformer.h.29.attn.c_attn.lora_B.default.weight', 'base_model.model.base_model.model.transformer.h.30.attn.c_attn.lora_A.default.weight', 'base_model.model.base_model.model.transformer.h.30.attn.c_attn.lora_B.default.weight', 'base_model.model.base_model.model.transformer.h.31.attn.c_attn.lora_A.default.weight', 'base_model.model.base_model.model.transformer.h.31.attn.c_attn.lora_B.default.weight', 'base_model.model.base_model.model.transformer.h.32.attn.c_attn.lora_A.default.weight', 'base_model.model.base_model.model.transformer.h.32.attn.c_attn.lora_B.default.weight', 'base_model.model.base_model.model.transformer.h.33.attn.c_attn.lora_A.default.weight', 'base_model.model.base_model.model.transformer.h.33.attn.c_attn.lora_B.default.weight', 'base_model.model.base_model.model.transformer.h.34.attn.c_attn.lora_A.default.weight', 'base_model.model.base_model.model.transformer.h.34.attn.c_attn.lora_B.default.weight', 'base_model.model.base_model.model.transformer.h.35.attn.c_attn.lora_A.default.weight', 'base_model.model.base_model.model.transformer.h.35.attn.c_attn.lora_B.default.weight'].\n",
            "  warnings.warn(warn_message)\n",
            "Model and tokenizer loaded successfully.\n",
            "[18/Jun/2025 10:45:06] \u001b[m\"POST /api/load-model/ HTTP/1.1\" 200 51\u001b[0m\n",
            "Parsed request.data: {'symptoms': 'cough, headache', 'doctor_id': '1'}\n",
            "Setting `pad_token_id` to `eos_token_id`:50256 for open-end generation.\n",
            "[18/Jun/2025 10:45:23] \u001b[m\"POST /api/generate-prescription/ HTTP/1.1\" 200 150\u001b[0m\n",
            "Parsed request.data: {'symptoms': 'stomache ache, indigestion', 'doctor_id': '1'}\n",
            "Setting `pad_token_id` to `eos_token_id`:50256 for open-end generation.\n",
            "[18/Jun/2025 10:45:42] \u001b[m\"POST /api/generate-prescription/ HTTP/1.1\" 200 140\u001b[0m\n",
            "Parsed request.data: {'symptoms': 'stomache ache, indigestion', 'doctor_id': '1'}\n",
            "Setting `pad_token_id` to `eos_token_id`:50256 for open-end generation.\n",
            "[18/Jun/2025 10:45:52] \u001b[m\"POST /api/generate-prescription/ HTTP/1.1\" 200 121\u001b[0m\n",
            "Parsed request.data: {'symptoms': 'vomiting, headache', 'doctor_id': '1'}\n",
            "Setting `pad_token_id` to `eos_token_id`:50256 for open-end generation.\n",
            "[18/Jun/2025 10:46:16] \u001b[m\"POST /api/generate-prescription/ HTTP/1.1\" 200 109\u001b[0m\n"
          ]
        }
      ]
    },
    {
      "cell_type": "code",
      "source": [],
      "metadata": {
        "colab": {
          "base_uri": "https://localhost:8080/",
          "height": 126
        },
        "id": "w4YE9eaET1Al",
        "outputId": "f0623f1e-2a69-4f0e-aa30-34f588ce65a1"
      },
      "execution_count": null,
      "outputs": [
        {
          "output_type": "stream",
          "name": "stdout",
          "text": [
            "Loading personalised precription agent....\n",
            "Loading Locutusque gpt2 medical base model....\n",
            "checking for model...\n",
            "model exists!\n",
            "Model and tokenizer loaded successfully.\n"
          ]
        },
        {
          "output_type": "execute_result",
          "data": {
            "text/plain": [
              "'Personalied Model loaded for doctor 101'"
            ],
            "application/vnd.google.colaboratory.intrinsic+json": {
              "type": "string"
            }
          },
          "metadata": {},
          "execution_count": 7
        }
      ]
    },
    {
      "cell_type": "code",
      "source": [
        "!pip install bitsandbytes\n"
      ],
      "metadata": {
        "colab": {
          "base_uri": "https://localhost:8080/",
          "height": 1000
        },
        "id": "S-43typDAMzb",
        "outputId": "6ec67b46-c297-4d25-9a93-426b2d97c530"
      },
      "execution_count": null,
      "outputs": [
        {
          "output_type": "stream",
          "name": "stdout",
          "text": [
            "Collecting bitsandbytes\n",
            "  Downloading bitsandbytes-0.46.0-py3-none-manylinux_2_24_x86_64.whl.metadata (10 kB)\n",
            "Requirement already satisfied: torch<3,>=2.2 in /usr/local/lib/python3.11/dist-packages (from bitsandbytes) (2.6.0+cu124)\n",
            "Requirement already satisfied: numpy>=1.17 in /usr/local/lib/python3.11/dist-packages (from bitsandbytes) (2.0.2)\n",
            "Requirement already satisfied: filelock in /usr/local/lib/python3.11/dist-packages (from torch<3,>=2.2->bitsandbytes) (3.18.0)\n",
            "Requirement already satisfied: typing-extensions>=4.10.0 in /usr/local/lib/python3.11/dist-packages (from torch<3,>=2.2->bitsandbytes) (4.14.0)\n",
            "Requirement already satisfied: networkx in /usr/local/lib/python3.11/dist-packages (from torch<3,>=2.2->bitsandbytes) (3.5)\n",
            "Requirement already satisfied: jinja2 in /usr/local/lib/python3.11/dist-packages (from torch<3,>=2.2->bitsandbytes) (3.1.6)\n",
            "Requirement already satisfied: fsspec in /usr/local/lib/python3.11/dist-packages (from torch<3,>=2.2->bitsandbytes) (2025.3.2)\n",
            "Collecting nvidia-cuda-nvrtc-cu12==12.4.127 (from torch<3,>=2.2->bitsandbytes)\n",
            "  Downloading nvidia_cuda_nvrtc_cu12-12.4.127-py3-none-manylinux2014_x86_64.whl.metadata (1.5 kB)\n",
            "Collecting nvidia-cuda-runtime-cu12==12.4.127 (from torch<3,>=2.2->bitsandbytes)\n",
            "  Downloading nvidia_cuda_runtime_cu12-12.4.127-py3-none-manylinux2014_x86_64.whl.metadata (1.5 kB)\n",
            "Collecting nvidia-cuda-cupti-cu12==12.4.127 (from torch<3,>=2.2->bitsandbytes)\n",
            "  Downloading nvidia_cuda_cupti_cu12-12.4.127-py3-none-manylinux2014_x86_64.whl.metadata (1.6 kB)\n",
            "Collecting nvidia-cudnn-cu12==9.1.0.70 (from torch<3,>=2.2->bitsandbytes)\n",
            "  Downloading nvidia_cudnn_cu12-9.1.0.70-py3-none-manylinux2014_x86_64.whl.metadata (1.6 kB)\n",
            "Collecting nvidia-cublas-cu12==12.4.5.8 (from torch<3,>=2.2->bitsandbytes)\n",
            "  Downloading nvidia_cublas_cu12-12.4.5.8-py3-none-manylinux2014_x86_64.whl.metadata (1.5 kB)\n",
            "Collecting nvidia-cufft-cu12==11.2.1.3 (from torch<3,>=2.2->bitsandbytes)\n",
            "  Downloading nvidia_cufft_cu12-11.2.1.3-py3-none-manylinux2014_x86_64.whl.metadata (1.5 kB)\n",
            "Collecting nvidia-curand-cu12==10.3.5.147 (from torch<3,>=2.2->bitsandbytes)\n",
            "  Downloading nvidia_curand_cu12-10.3.5.147-py3-none-manylinux2014_x86_64.whl.metadata (1.5 kB)\n",
            "Collecting nvidia-cusolver-cu12==11.6.1.9 (from torch<3,>=2.2->bitsandbytes)\n",
            "  Downloading nvidia_cusolver_cu12-11.6.1.9-py3-none-manylinux2014_x86_64.whl.metadata (1.6 kB)\n",
            "Collecting nvidia-cusparse-cu12==12.3.1.170 (from torch<3,>=2.2->bitsandbytes)\n",
            "  Downloading nvidia_cusparse_cu12-12.3.1.170-py3-none-manylinux2014_x86_64.whl.metadata (1.6 kB)\n",
            "Requirement already satisfied: nvidia-cusparselt-cu12==0.6.2 in /usr/local/lib/python3.11/dist-packages (from torch<3,>=2.2->bitsandbytes) (0.6.2)\n",
            "Requirement already satisfied: nvidia-nccl-cu12==2.21.5 in /usr/local/lib/python3.11/dist-packages (from torch<3,>=2.2->bitsandbytes) (2.21.5)\n",
            "Requirement already satisfied: nvidia-nvtx-cu12==12.4.127 in /usr/local/lib/python3.11/dist-packages (from torch<3,>=2.2->bitsandbytes) (12.4.127)\n",
            "Collecting nvidia-nvjitlink-cu12==12.4.127 (from torch<3,>=2.2->bitsandbytes)\n",
            "  Downloading nvidia_nvjitlink_cu12-12.4.127-py3-none-manylinux2014_x86_64.whl.metadata (1.5 kB)\n",
            "Requirement already satisfied: triton==3.2.0 in /usr/local/lib/python3.11/dist-packages (from torch<3,>=2.2->bitsandbytes) (3.2.0)\n",
            "Requirement already satisfied: sympy==1.13.1 in /usr/local/lib/python3.11/dist-packages (from torch<3,>=2.2->bitsandbytes) (1.13.1)\n",
            "Requirement already satisfied: mpmath<1.4,>=1.1.0 in /usr/local/lib/python3.11/dist-packages (from sympy==1.13.1->torch<3,>=2.2->bitsandbytes) (1.3.0)\n",
            "Requirement already satisfied: MarkupSafe>=2.0 in /usr/local/lib/python3.11/dist-packages (from jinja2->torch<3,>=2.2->bitsandbytes) (3.0.2)\n",
            "Downloading bitsandbytes-0.46.0-py3-none-manylinux_2_24_x86_64.whl (67.0 MB)\n",
            "\u001b[2K   \u001b[90m━━━━━━━━━━━━━━━━━━━━━━━━━━━━━━━━━━━━━━━━\u001b[0m \u001b[32m67.0/67.0 MB\u001b[0m \u001b[31m12.1 MB/s\u001b[0m eta \u001b[36m0:00:00\u001b[0m\n",
            "\u001b[?25hDownloading nvidia_cublas_cu12-12.4.5.8-py3-none-manylinux2014_x86_64.whl (363.4 MB)\n",
            "\u001b[2K   \u001b[90m━━━━━━━━━━━━━━━━━━━━━━━━━━━━━━━━━━━━━━━━\u001b[0m \u001b[32m363.4/363.4 MB\u001b[0m \u001b[31m5.1 MB/s\u001b[0m eta \u001b[36m0:00:00\u001b[0m\n",
            "\u001b[?25hDownloading nvidia_cuda_cupti_cu12-12.4.127-py3-none-manylinux2014_x86_64.whl (13.8 MB)\n",
            "\u001b[2K   \u001b[90m━━━━━━━━━━━━━━━━━━━━━━━━━━━━━━━━━━━━━━━━\u001b[0m \u001b[32m13.8/13.8 MB\u001b[0m \u001b[31m127.0 MB/s\u001b[0m eta \u001b[36m0:00:00\u001b[0m\n",
            "\u001b[?25hDownloading nvidia_cuda_nvrtc_cu12-12.4.127-py3-none-manylinux2014_x86_64.whl (24.6 MB)\n",
            "\u001b[2K   \u001b[90m━━━━━━━━━━━━━━━━━━━━━━━━━━━━━━━━━━━━━━━━\u001b[0m \u001b[32m24.6/24.6 MB\u001b[0m \u001b[31m95.4 MB/s\u001b[0m eta \u001b[36m0:00:00\u001b[0m\n",
            "\u001b[?25hDownloading nvidia_cuda_runtime_cu12-12.4.127-py3-none-manylinux2014_x86_64.whl (883 kB)\n",
            "\u001b[2K   \u001b[90m━━━━━━━━━━━━━━━━━━━━━━━━━━━━━━━━━━━━━━━━\u001b[0m \u001b[32m883.7/883.7 kB\u001b[0m \u001b[31m58.8 MB/s\u001b[0m eta \u001b[36m0:00:00\u001b[0m\n",
            "\u001b[?25hDownloading nvidia_cudnn_cu12-9.1.0.70-py3-none-manylinux2014_x86_64.whl (664.8 MB)\n",
            "\u001b[2K   \u001b[90m━━━━━━━━━━━━━━━━━━━━━━━━━━━━━━━━━━━━━━━━\u001b[0m \u001b[32m664.8/664.8 MB\u001b[0m \u001b[31m3.3 MB/s\u001b[0m eta \u001b[36m0:00:00\u001b[0m\n",
            "\u001b[?25hDownloading nvidia_cufft_cu12-11.2.1.3-py3-none-manylinux2014_x86_64.whl (211.5 MB)\n",
            "\u001b[2K   \u001b[90m━━━━━━━━━━━━━━━━━━━━━━━━━━━━━━━━━━━━━━━━\u001b[0m \u001b[32m211.5/211.5 MB\u001b[0m \u001b[31m6.8 MB/s\u001b[0m eta \u001b[36m0:00:00\u001b[0m\n",
            "\u001b[?25hDownloading nvidia_curand_cu12-10.3.5.147-py3-none-manylinux2014_x86_64.whl (56.3 MB)\n",
            "\u001b[2K   \u001b[90m━━━━━━━━━━━━━━━━━━━━━━━━━━━━━━━━━━━━━━━━\u001b[0m \u001b[32m56.3/56.3 MB\u001b[0m \u001b[31m20.8 MB/s\u001b[0m eta \u001b[36m0:00:00\u001b[0m\n",
            "\u001b[?25hDownloading nvidia_cusolver_cu12-11.6.1.9-py3-none-manylinux2014_x86_64.whl (127.9 MB)\n",
            "\u001b[2K   \u001b[90m━━━━━━━━━━━━━━━━━━━━━━━━━━━━━━━━━━━━━━━━\u001b[0m \u001b[32m127.9/127.9 MB\u001b[0m \u001b[31m7.4 MB/s\u001b[0m eta \u001b[36m0:00:00\u001b[0m\n",
            "\u001b[?25hDownloading nvidia_cusparse_cu12-12.3.1.170-py3-none-manylinux2014_x86_64.whl (207.5 MB)\n",
            "\u001b[2K   \u001b[90m━━━━━━━━━━━━━━━━━━━━━━━━━━━━━━━━━━━━━━━━\u001b[0m \u001b[32m207.5/207.5 MB\u001b[0m \u001b[31m5.4 MB/s\u001b[0m eta \u001b[36m0:00:00\u001b[0m\n",
            "\u001b[?25hDownloading nvidia_nvjitlink_cu12-12.4.127-py3-none-manylinux2014_x86_64.whl (21.1 MB)\n",
            "\u001b[2K   \u001b[90m━━━━━━━━━━━━━━━━━━━━━━━━━━━━━━━━━━━━━━━━\u001b[0m \u001b[32m21.1/21.1 MB\u001b[0m \u001b[31m79.9 MB/s\u001b[0m eta \u001b[36m0:00:00\u001b[0m\n",
            "\u001b[?25hInstalling collected packages: nvidia-nvjitlink-cu12, nvidia-curand-cu12, nvidia-cufft-cu12, nvidia-cuda-runtime-cu12, nvidia-cuda-nvrtc-cu12, nvidia-cuda-cupti-cu12, nvidia-cublas-cu12, nvidia-cusparse-cu12, nvidia-cudnn-cu12, nvidia-cusolver-cu12, bitsandbytes\n",
            "  Attempting uninstall: nvidia-nvjitlink-cu12\n",
            "    Found existing installation: nvidia-nvjitlink-cu12 12.5.82\n",
            "    Uninstalling nvidia-nvjitlink-cu12-12.5.82:\n",
            "      Successfully uninstalled nvidia-nvjitlink-cu12-12.5.82\n",
            "  Attempting uninstall: nvidia-curand-cu12\n",
            "    Found existing installation: nvidia-curand-cu12 10.3.6.82\n",
            "    Uninstalling nvidia-curand-cu12-10.3.6.82:\n",
            "      Successfully uninstalled nvidia-curand-cu12-10.3.6.82\n",
            "  Attempting uninstall: nvidia-cufft-cu12\n",
            "    Found existing installation: nvidia-cufft-cu12 11.2.3.61\n",
            "    Uninstalling nvidia-cufft-cu12-11.2.3.61:\n",
            "      Successfully uninstalled nvidia-cufft-cu12-11.2.3.61\n",
            "  Attempting uninstall: nvidia-cuda-runtime-cu12\n",
            "    Found existing installation: nvidia-cuda-runtime-cu12 12.5.82\n",
            "    Uninstalling nvidia-cuda-runtime-cu12-12.5.82:\n",
            "      Successfully uninstalled nvidia-cuda-runtime-cu12-12.5.82\n",
            "  Attempting uninstall: nvidia-cuda-nvrtc-cu12\n",
            "    Found existing installation: nvidia-cuda-nvrtc-cu12 12.5.82\n",
            "    Uninstalling nvidia-cuda-nvrtc-cu12-12.5.82:\n",
            "      Successfully uninstalled nvidia-cuda-nvrtc-cu12-12.5.82\n",
            "  Attempting uninstall: nvidia-cuda-cupti-cu12\n",
            "    Found existing installation: nvidia-cuda-cupti-cu12 12.5.82\n",
            "    Uninstalling nvidia-cuda-cupti-cu12-12.5.82:\n",
            "      Successfully uninstalled nvidia-cuda-cupti-cu12-12.5.82\n",
            "  Attempting uninstall: nvidia-cublas-cu12\n",
            "    Found existing installation: nvidia-cublas-cu12 12.5.3.2\n",
            "    Uninstalling nvidia-cublas-cu12-12.5.3.2:\n",
            "      Successfully uninstalled nvidia-cublas-cu12-12.5.3.2\n",
            "  Attempting uninstall: nvidia-cusparse-cu12\n",
            "    Found existing installation: nvidia-cusparse-cu12 12.5.1.3\n",
            "    Uninstalling nvidia-cusparse-cu12-12.5.1.3:\n",
            "      Successfully uninstalled nvidia-cusparse-cu12-12.5.1.3\n",
            "  Attempting uninstall: nvidia-cudnn-cu12\n",
            "    Found existing installation: nvidia-cudnn-cu12 9.3.0.75\n",
            "    Uninstalling nvidia-cudnn-cu12-9.3.0.75:\n",
            "      Successfully uninstalled nvidia-cudnn-cu12-9.3.0.75\n",
            "  Attempting uninstall: nvidia-cusolver-cu12\n",
            "    Found existing installation: nvidia-cusolver-cu12 11.6.3.83\n",
            "    Uninstalling nvidia-cusolver-cu12-11.6.3.83:\n",
            "      Successfully uninstalled nvidia-cusolver-cu12-11.6.3.83\n",
            "Successfully installed bitsandbytes-0.46.0 nvidia-cublas-cu12-12.4.5.8 nvidia-cuda-cupti-cu12-12.4.127 nvidia-cuda-nvrtc-cu12-12.4.127 nvidia-cuda-runtime-cu12-12.4.127 nvidia-cudnn-cu12-9.1.0.70 nvidia-cufft-cu12-11.2.1.3 nvidia-curand-cu12-10.3.5.147 nvidia-cusolver-cu12-11.6.1.9 nvidia-cusparse-cu12-12.3.1.170 nvidia-nvjitlink-cu12-12.4.127\n"
          ]
        },
        {
          "output_type": "display_data",
          "data": {
            "application/vnd.colab-display-data+json": {
              "pip_warning": {
                "packages": [
                  "nvidia"
                ]
              },
              "id": "795e7a0ca7a14a0183acc9b4d7fcd02a"
            }
          },
          "metadata": {}
        }
      ]
    }
  ]
}